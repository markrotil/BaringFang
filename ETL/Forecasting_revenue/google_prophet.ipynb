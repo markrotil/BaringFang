{
  "nbformat": 4,
  "nbformat_minor": 0,
  "metadata": {
    "colab": {
      "name": "google_prophet.ipynb",
      "provenance": [],
      "collapsed_sections": []
    },
    "kernelspec": {
      "name": "python3",
      "display_name": "Python 3"
    }
  },
  "cells": [
    {
      "cell_type": "code",
      "metadata": {
        "id": "uQbAyT_CjO81"
      },
      "source": [
        "import pandas as pd\r\n",
        "from fbprophet import Prophet"
      ],
      "execution_count": 1,
      "outputs": []
    },
    {
      "cell_type": "code",
      "metadata": {
        "colab": {
          "base_uri": "https://localhost:8080/",
          "height": 204
        },
        "id": "IhSZDjv1su-0",
        "outputId": "5590d4ea-70e7-41ab-9d97-75079036bdaf"
      },
      "source": [
        "df = pd.read_csv('google_quarter.csv')\r\n",
        "df.tail()"
      ],
      "execution_count": 2,
      "outputs": [
        {
          "output_type": "execute_result",
          "data": {
            "text/html": [
              "<div>\n",
              "<style scoped>\n",
              "    .dataframe tbody tr th:only-of-type {\n",
              "        vertical-align: middle;\n",
              "    }\n",
              "\n",
              "    .dataframe tbody tr th {\n",
              "        vertical-align: top;\n",
              "    }\n",
              "\n",
              "    .dataframe thead th {\n",
              "        text-align: right;\n",
              "    }\n",
              "</style>\n",
              "<table border=\"1\" class=\"dataframe\">\n",
              "  <thead>\n",
              "    <tr style=\"text-align: right;\">\n",
              "      <th></th>\n",
              "      <th>Quarter_Date</th>\n",
              "      <th>Google_Revenue(Millions$US)</th>\n",
              "    </tr>\n",
              "  </thead>\n",
              "  <tbody>\n",
              "    <tr>\n",
              "      <th>59</th>\n",
              "      <td>2006-03-31</td>\n",
              "      <td>2254</td>\n",
              "    </tr>\n",
              "    <tr>\n",
              "      <th>60</th>\n",
              "      <td>2005-12-31</td>\n",
              "      <td>1919</td>\n",
              "    </tr>\n",
              "    <tr>\n",
              "      <th>61</th>\n",
              "      <td>2005-09-30</td>\n",
              "      <td>1578</td>\n",
              "    </tr>\n",
              "    <tr>\n",
              "      <th>62</th>\n",
              "      <td>2005-06-30</td>\n",
              "      <td>1384</td>\n",
              "    </tr>\n",
              "    <tr>\n",
              "      <th>63</th>\n",
              "      <td>2005-03-31</td>\n",
              "      <td>1257</td>\n",
              "    </tr>\n",
              "  </tbody>\n",
              "</table>\n",
              "</div>"
            ],
            "text/plain": [
              "   Quarter_Date  Google_Revenue(Millions$US)\n",
              "59   2006-03-31                         2254\n",
              "60   2005-12-31                         1919\n",
              "61   2005-09-30                         1578\n",
              "62   2005-06-30                         1384\n",
              "63   2005-03-31                         1257"
            ]
          },
          "metadata": {
            "tags": []
          },
          "execution_count": 2
        }
      ]
    },
    {
      "cell_type": "code",
      "metadata": {
        "colab": {
          "base_uri": "https://localhost:8080/",
          "height": 419
        },
        "id": "bpkaJJrutajH",
        "outputId": "39e4c8ec-4e95-4865-eb5e-03796ed64428"
      },
      "source": [
        "company_quarter= df.rename(columns={\"Quarter_Date\": 'ds', \r\n",
        "                                 \"Google_Revenue(Millions$US)\": 'y'})\r\n",
        "company_quarter"
      ],
      "execution_count": 3,
      "outputs": [
        {
          "output_type": "execute_result",
          "data": {
            "text/html": [
              "<div>\n",
              "<style scoped>\n",
              "    .dataframe tbody tr th:only-of-type {\n",
              "        vertical-align: middle;\n",
              "    }\n",
              "\n",
              "    .dataframe tbody tr th {\n",
              "        vertical-align: top;\n",
              "    }\n",
              "\n",
              "    .dataframe thead th {\n",
              "        text-align: right;\n",
              "    }\n",
              "</style>\n",
              "<table border=\"1\" class=\"dataframe\">\n",
              "  <thead>\n",
              "    <tr style=\"text-align: right;\">\n",
              "      <th></th>\n",
              "      <th>ds</th>\n",
              "      <th>y</th>\n",
              "    </tr>\n",
              "  </thead>\n",
              "  <tbody>\n",
              "    <tr>\n",
              "      <th>0</th>\n",
              "      <td>2020-12-31</td>\n",
              "      <td>56898</td>\n",
              "    </tr>\n",
              "    <tr>\n",
              "      <th>1</th>\n",
              "      <td>2020-09-30</td>\n",
              "      <td>46173</td>\n",
              "    </tr>\n",
              "    <tr>\n",
              "      <th>2</th>\n",
              "      <td>2020-06-30</td>\n",
              "      <td>38297</td>\n",
              "    </tr>\n",
              "    <tr>\n",
              "      <th>3</th>\n",
              "      <td>2020-03-31</td>\n",
              "      <td>41159</td>\n",
              "    </tr>\n",
              "    <tr>\n",
              "      <th>4</th>\n",
              "      <td>2019-12-31</td>\n",
              "      <td>46075</td>\n",
              "    </tr>\n",
              "    <tr>\n",
              "      <th>...</th>\n",
              "      <td>...</td>\n",
              "      <td>...</td>\n",
              "    </tr>\n",
              "    <tr>\n",
              "      <th>59</th>\n",
              "      <td>2006-03-31</td>\n",
              "      <td>2254</td>\n",
              "    </tr>\n",
              "    <tr>\n",
              "      <th>60</th>\n",
              "      <td>2005-12-31</td>\n",
              "      <td>1919</td>\n",
              "    </tr>\n",
              "    <tr>\n",
              "      <th>61</th>\n",
              "      <td>2005-09-30</td>\n",
              "      <td>1578</td>\n",
              "    </tr>\n",
              "    <tr>\n",
              "      <th>62</th>\n",
              "      <td>2005-06-30</td>\n",
              "      <td>1384</td>\n",
              "    </tr>\n",
              "    <tr>\n",
              "      <th>63</th>\n",
              "      <td>2005-03-31</td>\n",
              "      <td>1257</td>\n",
              "    </tr>\n",
              "  </tbody>\n",
              "</table>\n",
              "<p>64 rows × 2 columns</p>\n",
              "</div>"
            ],
            "text/plain": [
              "            ds      y\n",
              "0   2020-12-31  56898\n",
              "1   2020-09-30  46173\n",
              "2   2020-06-30  38297\n",
              "3   2020-03-31  41159\n",
              "4   2019-12-31  46075\n",
              "..         ...    ...\n",
              "59  2006-03-31   2254\n",
              "60  2005-12-31   1919\n",
              "61  2005-09-30   1578\n",
              "62  2005-06-30   1384\n",
              "63  2005-03-31   1257\n",
              "\n",
              "[64 rows x 2 columns]"
            ]
          },
          "metadata": {
            "tags": []
          },
          "execution_count": 3
        }
      ]
    },
    {
      "cell_type": "code",
      "metadata": {
        "colab": {
          "base_uri": "https://localhost:8080/"
        },
        "id": "kT3Ao-bUuDYR",
        "outputId": "10aac1fb-af3f-4ef4-8c98-425513f27428"
      },
      "source": [
        "model = Prophet()\r\n",
        "model.fit(company_quarter)"
      ],
      "execution_count": 4,
      "outputs": [
        {
          "output_type": "stream",
          "text": [
            "INFO:numexpr.utils:NumExpr defaulting to 2 threads.\n",
            "INFO:fbprophet:Disabling weekly seasonality. Run prophet with weekly_seasonality=True to override this.\n",
            "INFO:fbprophet:Disabling daily seasonality. Run prophet with daily_seasonality=True to override this.\n"
          ],
          "name": "stderr"
        },
        {
          "output_type": "execute_result",
          "data": {
            "text/plain": [
              "<fbprophet.forecaster.Prophet at 0x7f6ed0ec0390>"
            ]
          },
          "metadata": {
            "tags": []
          },
          "execution_count": 4
        }
      ]
    },
    {
      "cell_type": "code",
      "metadata": {
        "colab": {
          "base_uri": "https://localhost:8080/",
          "height": 204
        },
        "id": "BmRZ0wMksvOA",
        "outputId": "e5be5a99-83a1-42bb-944b-78ffc3fc9c15"
      },
      "source": [
        "future = model.make_future_dataframe(periods=8, freq='Q')\r\n",
        "future.tail()"
      ],
      "execution_count": 5,
      "outputs": [
        {
          "output_type": "execute_result",
          "data": {
            "text/html": [
              "<div>\n",
              "<style scoped>\n",
              "    .dataframe tbody tr th:only-of-type {\n",
              "        vertical-align: middle;\n",
              "    }\n",
              "\n",
              "    .dataframe tbody tr th {\n",
              "        vertical-align: top;\n",
              "    }\n",
              "\n",
              "    .dataframe thead th {\n",
              "        text-align: right;\n",
              "    }\n",
              "</style>\n",
              "<table border=\"1\" class=\"dataframe\">\n",
              "  <thead>\n",
              "    <tr style=\"text-align: right;\">\n",
              "      <th></th>\n",
              "      <th>ds</th>\n",
              "    </tr>\n",
              "  </thead>\n",
              "  <tbody>\n",
              "    <tr>\n",
              "      <th>67</th>\n",
              "      <td>2021-12-31</td>\n",
              "    </tr>\n",
              "    <tr>\n",
              "      <th>68</th>\n",
              "      <td>2022-03-31</td>\n",
              "    </tr>\n",
              "    <tr>\n",
              "      <th>69</th>\n",
              "      <td>2022-06-30</td>\n",
              "    </tr>\n",
              "    <tr>\n",
              "      <th>70</th>\n",
              "      <td>2022-09-30</td>\n",
              "    </tr>\n",
              "    <tr>\n",
              "      <th>71</th>\n",
              "      <td>2022-12-31</td>\n",
              "    </tr>\n",
              "  </tbody>\n",
              "</table>\n",
              "</div>"
            ],
            "text/plain": [
              "           ds\n",
              "67 2021-12-31\n",
              "68 2022-03-31\n",
              "69 2022-06-30\n",
              "70 2022-09-30\n",
              "71 2022-12-31"
            ]
          },
          "metadata": {
            "tags": []
          },
          "execution_count": 5
        }
      ]
    },
    {
      "cell_type": "code",
      "metadata": {
        "id": "FsR0h0krvwew"
      },
      "source": [
        "forecast = model.predict(future)"
      ],
      "execution_count": 6,
      "outputs": []
    },
    {
      "cell_type": "code",
      "metadata": {
        "colab": {
          "base_uri": "https://localhost:8080/",
          "height": 669
        },
        "id": "k4PRl_9AwLpG",
        "outputId": "0f5dd80b-dab1-4f17-b66f-4987774cc59f"
      },
      "source": [
        "\r\n",
        "forecast[['ds', 'yhat', 'yhat_lower', 'yhat_upper']].tail(20)"
      ],
      "execution_count": 7,
      "outputs": [
        {
          "output_type": "execute_result",
          "data": {
            "text/html": [
              "<div>\n",
              "<style scoped>\n",
              "    .dataframe tbody tr th:only-of-type {\n",
              "        vertical-align: middle;\n",
              "    }\n",
              "\n",
              "    .dataframe tbody tr th {\n",
              "        vertical-align: top;\n",
              "    }\n",
              "\n",
              "    .dataframe thead th {\n",
              "        text-align: right;\n",
              "    }\n",
              "</style>\n",
              "<table border=\"1\" class=\"dataframe\">\n",
              "  <thead>\n",
              "    <tr style=\"text-align: right;\">\n",
              "      <th></th>\n",
              "      <th>ds</th>\n",
              "      <th>yhat</th>\n",
              "      <th>yhat_lower</th>\n",
              "      <th>yhat_upper</th>\n",
              "    </tr>\n",
              "  </thead>\n",
              "  <tbody>\n",
              "    <tr>\n",
              "      <th>52</th>\n",
              "      <td>2018-03-31</td>\n",
              "      <td>31573.266294</td>\n",
              "      <td>29514.379635</td>\n",
              "      <td>33549.482568</td>\n",
              "    </tr>\n",
              "    <tr>\n",
              "      <th>53</th>\n",
              "      <td>2018-06-30</td>\n",
              "      <td>32977.059998</td>\n",
              "      <td>31062.944948</td>\n",
              "      <td>34893.400133</td>\n",
              "    </tr>\n",
              "    <tr>\n",
              "      <th>54</th>\n",
              "      <td>2018-09-30</td>\n",
              "      <td>34396.583661</td>\n",
              "      <td>32539.222915</td>\n",
              "      <td>36297.586186</td>\n",
              "    </tr>\n",
              "    <tr>\n",
              "      <th>55</th>\n",
              "      <td>2018-12-31</td>\n",
              "      <td>37240.535924</td>\n",
              "      <td>35337.809444</td>\n",
              "      <td>39136.086234</td>\n",
              "    </tr>\n",
              "    <tr>\n",
              "      <th>56</th>\n",
              "      <td>2019-03-31</td>\n",
              "      <td>37284.001931</td>\n",
              "      <td>35411.095203</td>\n",
              "      <td>39007.470299</td>\n",
              "    </tr>\n",
              "    <tr>\n",
              "      <th>57</th>\n",
              "      <td>2019-06-30</td>\n",
              "      <td>38984.424089</td>\n",
              "      <td>37193.706088</td>\n",
              "      <td>40735.066307</td>\n",
              "    </tr>\n",
              "    <tr>\n",
              "      <th>58</th>\n",
              "      <td>2019-09-30</td>\n",
              "      <td>40485.673774</td>\n",
              "      <td>38636.986927</td>\n",
              "      <td>42340.104426</td>\n",
              "    </tr>\n",
              "    <tr>\n",
              "      <th>59</th>\n",
              "      <td>2019-12-31</td>\n",
              "      <td>43491.876325</td>\n",
              "      <td>41423.094840</td>\n",
              "      <td>45379.012496</td>\n",
              "    </tr>\n",
              "    <tr>\n",
              "      <th>60</th>\n",
              "      <td>2020-03-31</td>\n",
              "      <td>42840.577305</td>\n",
              "      <td>41060.942946</td>\n",
              "      <td>44747.658246</td>\n",
              "    </tr>\n",
              "    <tr>\n",
              "      <th>61</th>\n",
              "      <td>2020-06-30</td>\n",
              "      <td>43414.855640</td>\n",
              "      <td>41497.747730</td>\n",
              "      <td>45327.626842</td>\n",
              "    </tr>\n",
              "    <tr>\n",
              "      <th>62</th>\n",
              "      <td>2020-09-30</td>\n",
              "      <td>46359.042611</td>\n",
              "      <td>44451.449831</td>\n",
              "      <td>48253.426971</td>\n",
              "    </tr>\n",
              "    <tr>\n",
              "      <th>63</th>\n",
              "      <td>2020-12-31</td>\n",
              "      <td>49596.332501</td>\n",
              "      <td>47701.307533</td>\n",
              "      <td>51448.513738</td>\n",
              "    </tr>\n",
              "    <tr>\n",
              "      <th>64</th>\n",
              "      <td>2021-03-31</td>\n",
              "      <td>48835.061162</td>\n",
              "      <td>46897.335934</td>\n",
              "      <td>50660.913055</td>\n",
              "    </tr>\n",
              "    <tr>\n",
              "      <th>65</th>\n",
              "      <td>2021-06-30</td>\n",
              "      <td>49860.004420</td>\n",
              "      <td>48029.134359</td>\n",
              "      <td>51758.920042</td>\n",
              "    </tr>\n",
              "    <tr>\n",
              "      <th>66</th>\n",
              "      <td>2021-09-30</td>\n",
              "      <td>51760.568011</td>\n",
              "      <td>49926.134297</td>\n",
              "      <td>53658.500248</td>\n",
              "    </tr>\n",
              "    <tr>\n",
              "      <th>67</th>\n",
              "      <td>2021-12-31</td>\n",
              "      <td>54683.858292</td>\n",
              "      <td>52761.592892</td>\n",
              "      <td>56771.175469</td>\n",
              "    </tr>\n",
              "    <tr>\n",
              "      <th>68</th>\n",
              "      <td>2022-03-31</td>\n",
              "      <td>54684.693189</td>\n",
              "      <td>52821.215845</td>\n",
              "      <td>56599.523340</td>\n",
              "    </tr>\n",
              "    <tr>\n",
              "      <th>69</th>\n",
              "      <td>2022-06-30</td>\n",
              "      <td>56088.486894</td>\n",
              "      <td>54014.461750</td>\n",
              "      <td>57986.699335</td>\n",
              "    </tr>\n",
              "    <tr>\n",
              "      <th>70</th>\n",
              "      <td>2022-09-30</td>\n",
              "      <td>57508.010556</td>\n",
              "      <td>55586.830445</td>\n",
              "      <td>59437.876552</td>\n",
              "    </tr>\n",
              "    <tr>\n",
              "      <th>71</th>\n",
              "      <td>2022-12-31</td>\n",
              "      <td>60351.962820</td>\n",
              "      <td>58293.850117</td>\n",
              "      <td>62501.307685</td>\n",
              "    </tr>\n",
              "  </tbody>\n",
              "</table>\n",
              "</div>"
            ],
            "text/plain": [
              "           ds          yhat    yhat_lower    yhat_upper\n",
              "52 2018-03-31  31573.266294  29514.379635  33549.482568\n",
              "53 2018-06-30  32977.059998  31062.944948  34893.400133\n",
              "54 2018-09-30  34396.583661  32539.222915  36297.586186\n",
              "55 2018-12-31  37240.535924  35337.809444  39136.086234\n",
              "56 2019-03-31  37284.001931  35411.095203  39007.470299\n",
              "57 2019-06-30  38984.424089  37193.706088  40735.066307\n",
              "58 2019-09-30  40485.673774  38636.986927  42340.104426\n",
              "59 2019-12-31  43491.876325  41423.094840  45379.012496\n",
              "60 2020-03-31  42840.577305  41060.942946  44747.658246\n",
              "61 2020-06-30  43414.855640  41497.747730  45327.626842\n",
              "62 2020-09-30  46359.042611  44451.449831  48253.426971\n",
              "63 2020-12-31  49596.332501  47701.307533  51448.513738\n",
              "64 2021-03-31  48835.061162  46897.335934  50660.913055\n",
              "65 2021-06-30  49860.004420  48029.134359  51758.920042\n",
              "66 2021-09-30  51760.568011  49926.134297  53658.500248\n",
              "67 2021-12-31  54683.858292  52761.592892  56771.175469\n",
              "68 2022-03-31  54684.693189  52821.215845  56599.523340\n",
              "69 2022-06-30  56088.486894  54014.461750  57986.699335\n",
              "70 2022-09-30  57508.010556  55586.830445  59437.876552\n",
              "71 2022-12-31  60351.962820  58293.850117  62501.307685"
            ]
          },
          "metadata": {
            "tags": []
          },
          "execution_count": 7
        }
      ]
    },
    {
      "cell_type": "code",
      "metadata": {
        "colab": {
          "base_uri": "https://localhost:8080/",
          "height": 441
        },
        "id": "t_TMmaiDwiwZ",
        "outputId": "56559b83-7d05-4c79-87ed-396e58a71f7d"
      },
      "source": [
        "\r\n",
        "plot2 = model.plot_components(forecast)"
      ],
      "execution_count": 8,
      "outputs": [
        {
          "output_type": "display_data",
          "data": {
            "image/png": "[encoded data removed]",
            "text/plain": [
              "<Figure size 648x432 with 2 Axes>"
            ]
          },
          "metadata": {
            "tags": []
          }
        }
      ]
    },
    {
      "cell_type": "code",
      "metadata": {
        "colab": {
          "base_uri": "https://localhost:8080/",
          "height": 441
        },
        "id": "kfoi6O74XhF6",
        "outputId": "d56cef60-069f-47a0-a79b-67c83e914cb5"
      },
      "source": [
        "\r\n",
        "plot1 = model.plot(forecast)"
      ],
      "execution_count": 9,
      "outputs": [
        {
          "output_type": "display_data",
          "data": {
            "image/png": "[encoded data removed]",
            "text/plain": [
              "<Figure size 720x432 with 1 Axes>"
            ]
          },
          "metadata": {
            "tags": []
          }
        }
      ]
    }
  ]
}