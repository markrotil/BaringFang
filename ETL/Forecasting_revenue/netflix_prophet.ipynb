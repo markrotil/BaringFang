{
  "nbformat": 4,
  "nbformat_minor": 0,
  "metadata": {
    "colab": {
      "name": "netflix_prophet.ipynb",
      "provenance": [],
      "collapsed_sections": []
    },
    "kernelspec": {
      "name": "python3",
      "display_name": "Python 3"
    }
  },
  "cells": [
    {
      "cell_type": "code",
      "metadata": {
        "id": "uQbAyT_CjO81"
      },
      "source": [
        "import pandas as pd\r\n",
        "from fbprophet import Prophet"
      ],
      "execution_count": 1,
      "outputs": []
    },
    {
      "cell_type": "code",
      "metadata": {
        "colab": {
          "base_uri": "https://localhost:8080/",
          "height": 204
        },
        "id": "IhSZDjv1su-0",
        "outputId": "4950f619-39ce-429b-f3f3-b87a5b50abd6"
      },
      "source": [
        "df = pd.read_csv('netlfix_quarter.csv')\r\n",
        "df.head()"
      ],
      "execution_count": 10,
      "outputs": [
        {
          "output_type": "execute_result",
          "data": {
            "text/html": [
              "<div>\n",
              "<style scoped>\n",
              "    .dataframe tbody tr th:only-of-type {\n",
              "        vertical-align: middle;\n",
              "    }\n",
              "\n",
              "    .dataframe tbody tr th {\n",
              "        vertical-align: top;\n",
              "    }\n",
              "\n",
              "    .dataframe thead th {\n",
              "        text-align: right;\n",
              "    }\n",
              "</style>\n",
              "<table border=\"1\" class=\"dataframe\">\n",
              "  <thead>\n",
              "    <tr style=\"text-align: right;\">\n",
              "      <th></th>\n",
              "      <th>Quarter_Date</th>\n",
              "      <th>Netflix_Revenue(Millions$US)</th>\n",
              "    </tr>\n",
              "  </thead>\n",
              "  <tbody>\n",
              "    <tr>\n",
              "      <th>0</th>\n",
              "      <td>2020-12-31</td>\n",
              "      <td>6644</td>\n",
              "    </tr>\n",
              "    <tr>\n",
              "      <th>1</th>\n",
              "      <td>2020-09-30</td>\n",
              "      <td>6436</td>\n",
              "    </tr>\n",
              "    <tr>\n",
              "      <th>2</th>\n",
              "      <td>2020-06-30</td>\n",
              "      <td>6148</td>\n",
              "    </tr>\n",
              "    <tr>\n",
              "      <th>3</th>\n",
              "      <td>2020-03-31</td>\n",
              "      <td>5768</td>\n",
              "    </tr>\n",
              "    <tr>\n",
              "      <th>4</th>\n",
              "      <td>2019-12-31</td>\n",
              "      <td>5467</td>\n",
              "    </tr>\n",
              "  </tbody>\n",
              "</table>\n",
              "</div>"
            ],
            "text/plain": [
              "  Quarter_Date  Netflix_Revenue(Millions$US)\n",
              "0   2020-12-31                          6644\n",
              "1   2020-09-30                          6436\n",
              "2   2020-06-30                          6148\n",
              "3   2020-03-31                          5768\n",
              "4   2019-12-31                          5467"
            ]
          },
          "metadata": {
            "tags": []
          },
          "execution_count": 10
        }
      ]
    },
    {
      "cell_type": "code",
      "metadata": {
        "colab": {
          "base_uri": "https://localhost:8080/",
          "height": 419
        },
        "id": "bpkaJJrutajH",
        "outputId": "aab79e6b-4bcb-462c-863b-db3c5e090a8e"
      },
      "source": [
        "company_quarter= df.rename(columns={\"Quarter_Date\": 'ds', \r\n",
        "                                 \"Netflix_Revenue(Millions$US)\": 'y'})\r\n",
        "company_quarter"
      ],
      "execution_count": 3,
      "outputs": [
        {
          "output_type": "execute_result",
          "data": {
            "text/html": [
              "<div>\n",
              "<style scoped>\n",
              "    .dataframe tbody tr th:only-of-type {\n",
              "        vertical-align: middle;\n",
              "    }\n",
              "\n",
              "    .dataframe tbody tr th {\n",
              "        vertical-align: top;\n",
              "    }\n",
              "\n",
              "    .dataframe thead th {\n",
              "        text-align: right;\n",
              "    }\n",
              "</style>\n",
              "<table border=\"1\" class=\"dataframe\">\n",
              "  <thead>\n",
              "    <tr style=\"text-align: right;\">\n",
              "      <th></th>\n",
              "      <th>ds</th>\n",
              "      <th>y</th>\n",
              "    </tr>\n",
              "  </thead>\n",
              "  <tbody>\n",
              "    <tr>\n",
              "      <th>0</th>\n",
              "      <td>2020-12-31</td>\n",
              "      <td>6644</td>\n",
              "    </tr>\n",
              "    <tr>\n",
              "      <th>1</th>\n",
              "      <td>2020-09-30</td>\n",
              "      <td>6436</td>\n",
              "    </tr>\n",
              "    <tr>\n",
              "      <th>2</th>\n",
              "      <td>2020-06-30</td>\n",
              "      <td>6148</td>\n",
              "    </tr>\n",
              "    <tr>\n",
              "      <th>3</th>\n",
              "      <td>2020-03-31</td>\n",
              "      <td>5768</td>\n",
              "    </tr>\n",
              "    <tr>\n",
              "      <th>4</th>\n",
              "      <td>2019-12-31</td>\n",
              "      <td>5467</td>\n",
              "    </tr>\n",
              "    <tr>\n",
              "      <th>...</th>\n",
              "      <td>...</td>\n",
              "      <td>...</td>\n",
              "    </tr>\n",
              "    <tr>\n",
              "      <th>59</th>\n",
              "      <td>2006-03-31</td>\n",
              "      <td>224</td>\n",
              "    </tr>\n",
              "    <tr>\n",
              "      <th>60</th>\n",
              "      <td>2005-12-31</td>\n",
              "      <td>193</td>\n",
              "    </tr>\n",
              "    <tr>\n",
              "      <th>61</th>\n",
              "      <td>2005-09-30</td>\n",
              "      <td>173</td>\n",
              "    </tr>\n",
              "    <tr>\n",
              "      <th>62</th>\n",
              "      <td>2005-06-30</td>\n",
              "      <td>164</td>\n",
              "    </tr>\n",
              "    <tr>\n",
              "      <th>63</th>\n",
              "      <td>2005-03-31</td>\n",
              "      <td>152</td>\n",
              "    </tr>\n",
              "  </tbody>\n",
              "</table>\n",
              "<p>64 rows × 2 columns</p>\n",
              "</div>"
            ],
            "text/plain": [
              "            ds     y\n",
              "0   2020-12-31  6644\n",
              "1   2020-09-30  6436\n",
              "2   2020-06-30  6148\n",
              "3   2020-03-31  5768\n",
              "4   2019-12-31  5467\n",
              "..         ...   ...\n",
              "59  2006-03-31   224\n",
              "60  2005-12-31   193\n",
              "61  2005-09-30   173\n",
              "62  2005-06-30   164\n",
              "63  2005-03-31   152\n",
              "\n",
              "[64 rows x 2 columns]"
            ]
          },
          "metadata": {
            "tags": []
          },
          "execution_count": 3
        }
      ]
    },
    {
      "cell_type": "code",
      "metadata": {
        "colab": {
          "base_uri": "https://localhost:8080/"
        },
        "id": "kT3Ao-bUuDYR",
        "outputId": "63000899-097c-4441-fbd4-2f8f429db9c8"
      },
      "source": [
        "model = Prophet()\r\n",
        "model.fit(company_quarter)"
      ],
      "execution_count": 4,
      "outputs": [
        {
          "output_type": "stream",
          "text": [
            "INFO:numexpr.utils:NumExpr defaulting to 2 threads.\n",
            "INFO:fbprophet:Disabling weekly seasonality. Run prophet with weekly_seasonality=True to override this.\n",
            "INFO:fbprophet:Disabling daily seasonality. Run prophet with daily_seasonality=True to override this.\n"
          ],
          "name": "stderr"
        },
        {
          "output_type": "execute_result",
          "data": {
            "text/plain": [
              "<fbprophet.forecaster.Prophet at 0x7f3e1f5c4350>"
            ]
          },
          "metadata": {
            "tags": []
          },
          "execution_count": 4
        }
      ]
    },
    {
      "cell_type": "code",
      "metadata": {
        "colab": {
          "base_uri": "https://localhost:8080/",
          "height": 204
        },
        "id": "BmRZ0wMksvOA",
        "outputId": "af834560-af64-4f43-8fa5-45482273c128"
      },
      "source": [
        "future = model.make_future_dataframe(periods=8, freq='Q')\r\n",
        "future.tail()"
      ],
      "execution_count": 5,
      "outputs": [
        {
          "output_type": "execute_result",
          "data": {
            "text/html": [
              "<div>\n",
              "<style scoped>\n",
              "    .dataframe tbody tr th:only-of-type {\n",
              "        vertical-align: middle;\n",
              "    }\n",
              "\n",
              "    .dataframe tbody tr th {\n",
              "        vertical-align: top;\n",
              "    }\n",
              "\n",
              "    .dataframe thead th {\n",
              "        text-align: right;\n",
              "    }\n",
              "</style>\n",
              "<table border=\"1\" class=\"dataframe\">\n",
              "  <thead>\n",
              "    <tr style=\"text-align: right;\">\n",
              "      <th></th>\n",
              "      <th>ds</th>\n",
              "    </tr>\n",
              "  </thead>\n",
              "  <tbody>\n",
              "    <tr>\n",
              "      <th>67</th>\n",
              "      <td>2021-12-31</td>\n",
              "    </tr>\n",
              "    <tr>\n",
              "      <th>68</th>\n",
              "      <td>2022-03-31</td>\n",
              "    </tr>\n",
              "    <tr>\n",
              "      <th>69</th>\n",
              "      <td>2022-06-30</td>\n",
              "    </tr>\n",
              "    <tr>\n",
              "      <th>70</th>\n",
              "      <td>2022-09-30</td>\n",
              "    </tr>\n",
              "    <tr>\n",
              "      <th>71</th>\n",
              "      <td>2022-12-31</td>\n",
              "    </tr>\n",
              "  </tbody>\n",
              "</table>\n",
              "</div>"
            ],
            "text/plain": [
              "           ds\n",
              "67 2021-12-31\n",
              "68 2022-03-31\n",
              "69 2022-06-30\n",
              "70 2022-09-30\n",
              "71 2022-12-31"
            ]
          },
          "metadata": {
            "tags": []
          },
          "execution_count": 5
        }
      ]
    },
    {
      "cell_type": "code",
      "metadata": {
        "id": "FsR0h0krvwew"
      },
      "source": [
        "forecast = model.predict(future)"
      ],
      "execution_count": 6,
      "outputs": []
    },
    {
      "cell_type": "code",
      "metadata": {
        "colab": {
          "base_uri": "https://localhost:8080/",
          "height": 669
        },
        "id": "k4PRl_9AwLpG",
        "outputId": "44feb045-068b-427f-fe61-eb2efc002e29"
      },
      "source": [
        "\r\n",
        "forecast[['ds', 'yhat', 'yhat_lower', 'yhat_upper']].head(20)"
      ],
      "execution_count": 11,
      "outputs": [
        {
          "output_type": "execute_result",
          "data": {
            "text/html": [
              "<div>\n",
              "<style scoped>\n",
              "    .dataframe tbody tr th:only-of-type {\n",
              "        vertical-align: middle;\n",
              "    }\n",
              "\n",
              "    .dataframe tbody tr th {\n",
              "        vertical-align: top;\n",
              "    }\n",
              "\n",
              "    .dataframe thead th {\n",
              "        text-align: right;\n",
              "    }\n",
              "</style>\n",
              "<table border=\"1\" class=\"dataframe\">\n",
              "  <thead>\n",
              "    <tr style=\"text-align: right;\">\n",
              "      <th></th>\n",
              "      <th>ds</th>\n",
              "      <th>yhat</th>\n",
              "      <th>yhat_lower</th>\n",
              "      <th>yhat_upper</th>\n",
              "    </tr>\n",
              "  </thead>\n",
              "  <tbody>\n",
              "    <tr>\n",
              "      <th>0</th>\n",
              "      <td>2005-03-31</td>\n",
              "      <td>198.032038</td>\n",
              "      <td>138.281474</td>\n",
              "      <td>254.398117</td>\n",
              "    </tr>\n",
              "    <tr>\n",
              "      <th>1</th>\n",
              "      <td>2005-06-30</td>\n",
              "      <td>186.915877</td>\n",
              "      <td>127.627607</td>\n",
              "      <td>243.089887</td>\n",
              "    </tr>\n",
              "    <tr>\n",
              "      <th>2</th>\n",
              "      <td>2005-09-30</td>\n",
              "      <td>170.327995</td>\n",
              "      <td>110.181952</td>\n",
              "      <td>223.494613</td>\n",
              "    </tr>\n",
              "    <tr>\n",
              "      <th>3</th>\n",
              "      <td>2005-12-31</td>\n",
              "      <td>172.657333</td>\n",
              "      <td>113.206399</td>\n",
              "      <td>232.823731</td>\n",
              "    </tr>\n",
              "    <tr>\n",
              "      <th>4</th>\n",
              "      <td>2006-03-31</td>\n",
              "      <td>231.107093</td>\n",
              "      <td>171.929792</td>\n",
              "      <td>292.375703</td>\n",
              "    </tr>\n",
              "    <tr>\n",
              "      <th>5</th>\n",
              "      <td>2006-06-30</td>\n",
              "      <td>226.246294</td>\n",
              "      <td>162.544922</td>\n",
              "      <td>281.145208</td>\n",
              "    </tr>\n",
              "    <tr>\n",
              "      <th>6</th>\n",
              "      <td>2006-09-30</td>\n",
              "      <td>209.080805</td>\n",
              "      <td>152.432936</td>\n",
              "      <td>266.640160</td>\n",
              "    </tr>\n",
              "    <tr>\n",
              "      <th>7</th>\n",
              "      <td>2006-12-31</td>\n",
              "      <td>212.454085</td>\n",
              "      <td>158.036341</td>\n",
              "      <td>266.402026</td>\n",
              "    </tr>\n",
              "    <tr>\n",
              "      <th>8</th>\n",
              "      <td>2007-03-31</td>\n",
              "      <td>254.714108</td>\n",
              "      <td>198.438766</td>\n",
              "      <td>310.878789</td>\n",
              "    </tr>\n",
              "    <tr>\n",
              "      <th>9</th>\n",
              "      <td>2007-06-30</td>\n",
              "      <td>298.680019</td>\n",
              "      <td>240.702966</td>\n",
              "      <td>362.951795</td>\n",
              "    </tr>\n",
              "    <tr>\n",
              "      <th>10</th>\n",
              "      <td>2007-09-30</td>\n",
              "      <td>310.212331</td>\n",
              "      <td>250.873724</td>\n",
              "      <td>367.766565</td>\n",
              "    </tr>\n",
              "    <tr>\n",
              "      <th>11</th>\n",
              "      <td>2007-12-31</td>\n",
              "      <td>308.251783</td>\n",
              "      <td>253.390753</td>\n",
              "      <td>363.347734</td>\n",
              "    </tr>\n",
              "    <tr>\n",
              "      <th>12</th>\n",
              "      <td>2008-03-31</td>\n",
              "      <td>332.960993</td>\n",
              "      <td>278.473136</td>\n",
              "      <td>389.252112</td>\n",
              "    </tr>\n",
              "    <tr>\n",
              "      <th>13</th>\n",
              "      <td>2008-06-30</td>\n",
              "      <td>358.797148</td>\n",
              "      <td>302.637693</td>\n",
              "      <td>416.504118</td>\n",
              "    </tr>\n",
              "    <tr>\n",
              "      <th>14</th>\n",
              "      <td>2008-09-30</td>\n",
              "      <td>371.684687</td>\n",
              "      <td>314.955166</td>\n",
              "      <td>430.323824</td>\n",
              "    </tr>\n",
              "    <tr>\n",
              "      <th>15</th>\n",
              "      <td>2008-12-31</td>\n",
              "      <td>385.771303</td>\n",
              "      <td>325.913216</td>\n",
              "      <td>439.066934</td>\n",
              "    </tr>\n",
              "    <tr>\n",
              "      <th>16</th>\n",
              "      <td>2009-03-31</td>\n",
              "      <td>414.880494</td>\n",
              "      <td>359.058560</td>\n",
              "      <td>473.654516</td>\n",
              "    </tr>\n",
              "    <tr>\n",
              "      <th>17</th>\n",
              "      <td>2009-06-30</td>\n",
              "      <td>423.446516</td>\n",
              "      <td>365.588180</td>\n",
              "      <td>483.347568</td>\n",
              "    </tr>\n",
              "    <tr>\n",
              "      <th>18</th>\n",
              "      <td>2009-09-30</td>\n",
              "      <td>426.757106</td>\n",
              "      <td>367.376182</td>\n",
              "      <td>477.560095</td>\n",
              "    </tr>\n",
              "    <tr>\n",
              "      <th>19</th>\n",
              "      <td>2009-12-31</td>\n",
              "      <td>449.025629</td>\n",
              "      <td>390.123378</td>\n",
              "      <td>503.512981</td>\n",
              "    </tr>\n",
              "  </tbody>\n",
              "</table>\n",
              "</div>"
            ],
            "text/plain": [
              "           ds        yhat  yhat_lower  yhat_upper\n",
              "0  2005-03-31  198.032038  138.281474  254.398117\n",
              "1  2005-06-30  186.915877  127.627607  243.089887\n",
              "2  2005-09-30  170.327995  110.181952  223.494613\n",
              "3  2005-12-31  172.657333  113.206399  232.823731\n",
              "4  2006-03-31  231.107093  171.929792  292.375703\n",
              "5  2006-06-30  226.246294  162.544922  281.145208\n",
              "6  2006-09-30  209.080805  152.432936  266.640160\n",
              "7  2006-12-31  212.454085  158.036341  266.402026\n",
              "8  2007-03-31  254.714108  198.438766  310.878789\n",
              "9  2007-06-30  298.680019  240.702966  362.951795\n",
              "10 2007-09-30  310.212331  250.873724  367.766565\n",
              "11 2007-12-31  308.251783  253.390753  363.347734\n",
              "12 2008-03-31  332.960993  278.473136  389.252112\n",
              "13 2008-06-30  358.797148  302.637693  416.504118\n",
              "14 2008-09-30  371.684687  314.955166  430.323824\n",
              "15 2008-12-31  385.771303  325.913216  439.066934\n",
              "16 2009-03-31  414.880494  359.058560  473.654516\n",
              "17 2009-06-30  423.446516  365.588180  483.347568\n",
              "18 2009-09-30  426.757106  367.376182  477.560095\n",
              "19 2009-12-31  449.025629  390.123378  503.512981"
            ]
          },
          "metadata": {
            "tags": []
          },
          "execution_count": 11
        }
      ]
    },
    {
      "cell_type": "code",
      "metadata": {
        "colab": {
          "base_uri": "https://localhost:8080/",
          "height": 441
        },
        "id": "t_TMmaiDwiwZ",
        "outputId": "ee4075da-fdfa-4eda-f3b0-5340d4292184"
      },
      "source": [
        "\r\n",
        "plot2 = model.plot_components(forecast)"
      ],
      "execution_count": 8,
      "outputs": [
        {
          "output_type": "display_data",
          "data": {
            "image/png": "[encoded data removed]",
            "text/plain": [
              "<Figure size 648x432 with 2 Axes>"
            ]
          },
          "metadata": {
            "tags": []
          }
        }
      ]
    },
    {
      "cell_type": "code",
      "metadata": {
        "colab": {
          "base_uri": "https://localhost:8080/",
          "height": 441
        },
        "id": "kfoi6O74XhF6",
        "outputId": "69e610aa-2b2b-405f-8b83-bb20ebac91c2"
      },
      "source": [
        "\r\n",
        "plot1 = model.plot(forecast)"
      ],
      "execution_count": 9,
      "outputs": [
        {
          "output_type": "display_data",
          "data": {
            "image/png": "[encoded data removed]",
            "text/plain": [
              "<Figure size 720x432 with 1 Axes>"
            ]
          },
          "metadata": {
            "tags": []
          }
        }
      ]
    }
  ]
}