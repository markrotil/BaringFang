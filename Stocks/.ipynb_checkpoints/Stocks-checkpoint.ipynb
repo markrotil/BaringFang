{
 "cells": [
  {
   "cell_type": "code",
   "execution_count": 3,
   "metadata": {},
   "outputs": [],
   "source": [
    "import pandas as pd\n",
    "import csv\n",
    "import os"
   ]
  },
  {
   "cell_type": "code",
   "execution_count": 4,
   "metadata": {},
   "outputs": [],
   "source": [
    "Amzn = 'AMZN.csv'\n",
    "Appl = 'APPL.csv'\n"
   ]
  },
  {
   "cell_type": "code",
   "execution_count": 5,
   "metadata": {},
   "outputs": [],
   "source": [
    "Amazon = pd.read_csv(Amzn)"
   ]
  },
  {
   "cell_type": "code",
   "execution_count": 6,
   "metadata": {},
   "outputs": [
    {
     "name": "stdout",
     "output_type": "stream",
     "text": [
      "           Date         Open         High          Low        Close  \\\n",
      "0    2018-01-02  1172.000000  1190.000000  1170.510010  1189.010010   \n",
      "1    2018-01-03  1188.300049  1205.489990  1188.300049  1204.199951   \n",
      "2    2018-01-04  1205.000000  1215.869995  1204.660034  1209.589966   \n",
      "3    2018-01-05  1217.510010  1229.140015  1210.000000  1229.140015   \n",
      "4    2018-01-08  1236.000000  1253.079956  1232.030029  1246.869995   \n",
      "..          ...          ...          ...          ...          ...   \n",
      "750  2020-12-23  3205.000000  3210.129883  3184.169922  3185.270020   \n",
      "751  2020-12-24  3193.899902  3202.000000  3169.000000  3172.689941   \n",
      "752  2020-12-28  3194.000000  3304.000000  3172.689941  3283.959961   \n",
      "753  2020-12-29  3309.939941  3350.649902  3281.219971  3322.000000   \n",
      "754  2020-12-30  3341.000000  3342.100098  3282.469971  3285.850098   \n",
      "\n",
      "       Adj Close   Volume  \n",
      "0    1189.010010  2694500  \n",
      "1    1204.199951  3108800  \n",
      "2    1209.589966  3022100  \n",
      "3    1229.140015  3544700  \n",
      "4    1246.869995  4279500  \n",
      "..           ...      ...  \n",
      "750  3185.270020  2093800  \n",
      "751  3172.689941  1451900  \n",
      "752  3283.959961  5686800  \n",
      "753  3322.000000  4872900  \n",
      "754  3285.850098  3209300  \n",
      "\n",
      "[755 rows x 7 columns]\n"
     ]
    }
   ],
   "source": []
  },
  {
   "cell_type": "code",
   "execution_count": null,
   "metadata": {},
   "outputs": [],
   "source": []
  }
 ],
 "metadata": {
  "kernelspec": {
   "display_name": "Python 3",
   "language": "python",
   "name": "python3"
  },
  "language_info": {
   "codemirror_mode": {
    "name": "ipython",
    "version": 3
   },
   "file_extension": ".py",
   "mimetype": "text/x-python",
   "name": "python",
   "nbconvert_exporter": "python",
   "pygments_lexer": "ipython3",
   "version": "3.7.6"
  }
 },
 "nbformat": 4,
 "nbformat_minor": 4
}
