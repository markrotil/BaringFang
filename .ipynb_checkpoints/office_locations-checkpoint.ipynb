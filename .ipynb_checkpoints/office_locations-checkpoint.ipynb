{
 "cells": [
  {
   "cell_type": "code",
   "execution_count": 5,
   "metadata": {},
   "outputs": [],
   "source": [
    "# Import Dependencies\n",
    "import pandas as pd\n",
    "from datetime import datetime as dt\n",
    "from bs4 import BeautifulSoup as bs\n",
    "import requests\n",
    "import os\n",
    "import numpy as np\n",
    "from splinter import Browser"
   ]
  },
  {
   "cell_type": "markdown",
   "metadata": {},
   "source": [
    "# Google Office Parsing"
   ]
  },
  {
   "cell_type": "code",
   "execution_count": null,
   "metadata": {},
   "outputs": [],
   "source": [
    "url='https://about.google/locations/?region=true'\n",
    "response = requests.get(url)"
   ]
  },
  {
   "cell_type": "code",
   "execution_count": null,
   "metadata": {},
   "outputs": [],
   "source": [
    "soup = bs(response.text, 'html.parser')"
   ]
  },
  {
   "cell_type": "code",
   "execution_count": null,
   "metadata": {},
   "outputs": [],
   "source": [
    "results = soup.find_all(\"div\", class_= \"office-info\")\n",
    "results"
   ]
  },
  {
   "cell_type": "code",
   "execution_count": null,
   "metadata": {},
   "outputs": [],
   "source": [
    "results = soup.find_all(\"div\", class_= \"office-info\")\n",
    "for result in results:\n",
    "    office = result.find(\"h2\", itemprop= \"name\").text\n",
    "    address = result.find(\"div\",itemprop= \"address\").text\n",
    "    quards = result.find(\"a\")['href']\n",
    "    print(\"-------------------\")\n",
    "    print(office, address, quards)\n",
    "    \n",
    "    "
   ]
  },
  {
   "cell_type": "code",
   "execution_count": null,
   "metadata": {},
   "outputs": [],
   "source": [
    "location = []\n",
    "addresses = []\n",
    "quardss = []\n",
    "\n",
    "for result in results:\n",
    "    office = result.find(\"h2\", class_= \"office-name\").text\n",
    "    address = result.find(\"div\", class_= \"office-address\").text\n",
    "    quards = result.find(\"a\")['href']\n",
    "    location.append(office)\n",
    "    addresses.append(address)\n",
    "    quardss.append(quards)\n",
    "    "
   ]
  },
  {
   "cell_type": "code",
   "execution_count": null,
   "metadata": {},
   "outputs": [],
   "source": [
    "# Create a dataframe from the parsed data above\n",
    "\n",
    "df = pd.DataFrame({\n",
    "    \"Office\": location,\n",
    "    \"Address\": addresses,\n",
    "    \"Quards\": quardss\n",
    "})\n",
    "\n",
    "# Removes all occurances of \"\\n\"\n",
    "df[\"Office\"].replace(r'\\s+|\\\\n', ' ', regex=True, inplace=True) \n",
    "df[\"Address\"].replace(r'\\s+|\\\\n', ' ', regex=True, inplace=True) \n",
    "\n",
    "#Drops the:'https://www.google.com/maps/dir/Current+Location/ at the beggining of the string\n",
    "# and the: ?hl=en at the end of the string\n",
    "df[\"Quards2\"]= df[\"Quards\"].str.strip('https://www.google.com/maps/dir/Current+Location/ ?hl=en')\n",
    "\n",
    "# Drops the old Column with the google hyperlinks\n",
    "df = df.drop(columns=['Quards'])\n",
    "\n",
    "\n",
    "# new data frame with split value columns \n",
    "new = df[\"Quards2\"].str.split(\",\", n = 1, expand = True) \n",
    "  \n",
    "# making separate Latitude column from new data frame \n",
    "df[\"Latitude\"]= new[0] \n",
    "  \n",
    "# making separate Longitude column from new data frame \n",
    "df[\"Longitude\"]= new[1] \n",
    "  \n",
    "# Dropping old Quards2 columns \n",
    "df.drop(columns =[\"Quards2\"], inplace = True) \n",
    "  \n",
    "# Drops duplicates and only keeps the Office's first occurance\n",
    "df= df.drop_duplicates(subset=[\"Office\"], keep='first')"
   ]
  },
  {
   "cell_type": "code",
   "execution_count": null,
   "metadata": {},
   "outputs": [],
   "source": [
    "df[\"Company\"] = (\"Google\")"
   ]
  },
  {
   "cell_type": "code",
   "execution_count": null,
   "metadata": {},
   "outputs": [],
   "source": [
    "df.set_index(\"Company\")"
   ]
  },
  {
   "cell_type": "markdown",
   "metadata": {},
   "source": [
    "# Amazon Office Parsing"
   ]
  },
  {
   "cell_type": "code",
   "execution_count": 6,
   "metadata": {},
   "outputs": [],
   "source": [
    "executable_path = {'executable_path': \"chromedriver.exe\"}\n",
    "browser = Browser('chrome', **executable_path, headless=False)"
   ]
  },
  {
   "cell_type": "code",
   "execution_count": 7,
   "metadata": {},
   "outputs": [],
   "source": [
    "amazonurl='https://craft.co/amazon/locations'\n",
    "browser.visit(amazonurl)"
   ]
  },
  {
   "cell_type": "code",
   "execution_count": 8,
   "metadata": {},
   "outputs": [],
   "source": [
    "html = browser.html"
   ]
  },
  {
   "cell_type": "code",
   "execution_count": null,
   "metadata": {},
   "outputs": [],
   "source": []
  },
  {
   "cell_type": "code",
   "execution_count": null,
   "metadata": {},
   "outputs": [],
   "source": [
    "amazonurl1=\"https://about.fb.com/media-gallery/offices-around-the-world/\"\n",
    "amazonresponse1 = requests.get(amazonurl1)\n",
    "amazonsoup1 = bs(amazonresponse1.text, 'html.parser')\n",
    "print(amazonsoup1.prettify())"
   ]
  },
  {
   "cell_type": "code",
   "execution_count": null,
   "metadata": {},
   "outputs": [],
   "source": [
    "results1 = soup.find_all(\"div\", class_= \"uk-card-body uk-padding-remove\")\n",
    "for result1 in results1:\n",
    "    office = result1.find(\"a\").text\n",
    "    address = result1.find(\"div\",itemprop= \"address\").text\n",
    "    quards = result1.find(\"a\")['href']\n",
    "    print(\"-------------------\")\n",
    "    print(office, address, quards)\n",
    "    "
   ]
  },
  {
   "cell_type": "code",
   "execution_count": null,
   "metadata": {},
   "outputs": [],
   "source": [
    "amazonsoup = bs(amazonresponse.text, 'html.parser')\n",
    "print(amazonsoup.prettify())"
   ]
  },
  {
   "cell_type": "code",
   "execution_count": null,
   "metadata": {},
   "outputs": [],
   "source": [
    "amazonresults = amazonsoup.find_all(\"div\", class_=\"location\")\n",
    "amazonresults\n",
    "\n"
   ]
  },
  {
   "cell_type": "code",
   "execution_count": null,
   "metadata": {},
   "outputs": [],
   "source": []
  }
 ],
 "metadata": {
  "kernelspec": {
   "display_name": "Python 3",
   "language": "python",
   "name": "python3"
  },
  "language_info": {
   "codemirror_mode": {
    "name": "ipython",
    "version": 3
   },
   "file_extension": ".py",
   "mimetype": "text/x-python",
   "name": "python",
   "nbconvert_exporter": "python",
   "pygments_lexer": "ipython3",
   "version": "3.7.6"
  }
 },
 "nbformat": 4,
 "nbformat_minor": 4
}
